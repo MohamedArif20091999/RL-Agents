{
  "nbformat": 4,
  "nbformat_minor": 0,
  "metadata": {
    "colab": {
      "name": "Qtable.ipynb",
      "provenance": [],
      "collapsed_sections": []
    },
    "kernelspec": {
      "name": "python3",
      "display_name": "Python 3"
    }
  },
  "cells": [
    {
      "cell_type": "code",
      "metadata": {
        "id": "G_ZjjWq3gMlo",
        "colab_type": "code",
        "colab": {}
      },
      "source": [
        ""
      ],
      "execution_count": 0,
      "outputs": []
    },
    {
      "cell_type": "code",
      "metadata": {
        "id": "fQCazn5CgcvM",
        "colab_type": "code",
        "colab": {}
      },
      "source": [
        "import numpy as np\n",
        "import gym\n",
        "import random"
      ],
      "execution_count": 0,
      "outputs": []
    },
    {
      "cell_type": "code",
      "metadata": {
        "id": "1rx8Clojglxi",
        "colab_type": "code",
        "colab": {}
      },
      "source": [
        "env=gym.make(\"FrozenLake-v0\")"
      ],
      "execution_count": 0,
      "outputs": []
    },
    {
      "cell_type": "code",
      "metadata": {
        "id": "xjxpYJMxgtE0",
        "colab_type": "code",
        "outputId": "eb9a1dea-acf5-4fe7-983a-dea52a39e30e",
        "colab": {
          "base_uri": "https://localhost:8080/",
          "height": 289
        }
      },
      "source": [
        "action_size=env.action_space.n\n",
        "state_size=env.observation_space.n\n",
        "qtable=np.zeros((state_size,action_size))\n",
        "print(qtable)"
      ],
      "execution_count": 0,
      "outputs": [
        {
          "output_type": "stream",
          "text": [
            "[[0. 0. 0. 0.]\n",
            " [0. 0. 0. 0.]\n",
            " [0. 0. 0. 0.]\n",
            " [0. 0. 0. 0.]\n",
            " [0. 0. 0. 0.]\n",
            " [0. 0. 0. 0.]\n",
            " [0. 0. 0. 0.]\n",
            " [0. 0. 0. 0.]\n",
            " [0. 0. 0. 0.]\n",
            " [0. 0. 0. 0.]\n",
            " [0. 0. 0. 0.]\n",
            " [0. 0. 0. 0.]\n",
            " [0. 0. 0. 0.]\n",
            " [0. 0. 0. 0.]\n",
            " [0. 0. 0. 0.]\n",
            " [0. 0. 0. 0.]]\n"
          ],
          "name": "stdout"
        }
      ]
    },
    {
      "cell_type": "code",
      "metadata": {
        "id": "3EyPYHrzhENj",
        "colab_type": "code",
        "colab": {}
      },
      "source": [
        "total_episodes=20000\n",
        "learning_rate=0.8\n",
        "max_steps=99\n",
        "gamma=0.95\n",
        "epsilon=1.0\n",
        "max_epsilon=1.0\n",
        "min_epsilon=0.01\n",
        "decay_rate=0.005"
      ],
      "execution_count": 0,
      "outputs": []
    },
    {
      "cell_type": "code",
      "metadata": {
        "id": "4YLUg4Bohcve",
        "colab_type": "code",
        "outputId": "437a83c9-ec1a-42e5-ac48-bf6dbafd1c72",
        "colab": {
          "base_uri": "https://localhost:8080/",
          "height": 34
        }
      },
      "source": [
        "rewards=[]\n",
        "for episode in range(total_episodes):\n",
        "  state=env.reset()\n",
        "  step=0\n",
        "  done=False\n",
        "  total_rewards=0\n",
        "\n",
        "  for step in range(max_steps):\n",
        "    exp_exp_tradeoff=random.uniform(0,1)\n",
        "    if exp_exp_tradeoff>epsilon:\n",
        "      action=np.argmax(qtable[state,:])\n",
        "    else:\n",
        "      action=env.action_space.sample()\n",
        "    new_state,reward,done,info=env.step(action)\n",
        "    qtable[state,action]=qtable[state,action]+learning_rate*(reward+gamma * np.max(qtable[new_state,:])-qtable[state,action])\n",
        "    total_rewards+=reward\n",
        "    state=new_state\n",
        "\n",
        "    if done==True:\n",
        "      break\n",
        "  epsilon=min_epsilon+(max_epsilon-min_epsilon)*np.exp(-decay_rate*episode)\n",
        "  rewards.append(total_rewards)\n",
        "\n",
        "\n",
        "print(\"Score over time: \"+str(sum(rewards)/total_episodes))\n",
        "\n"
      ],
      "execution_count": 0,
      "outputs": [
        {
          "output_type": "stream",
          "text": [
            "Score over time: 0.4925\n"
          ],
          "name": "stdout"
        }
      ]
    },
    {
      "cell_type": "code",
      "metadata": {
        "id": "hO_9TPQzk3qK",
        "colab_type": "code",
        "outputId": "d05bd801-99bc-40ea-991f-ee7b686b2a0b",
        "colab": {
          "base_uri": "https://localhost:8080/",
          "height": 289
        }
      },
      "source": [
        "print(qtable)"
      ],
      "execution_count": 0,
      "outputs": [
        {
          "output_type": "stream",
          "text": [
            "[[5.76928621e-02 3.04508635e-02 2.72886413e-01 5.12451157e-02]\n",
            " [5.04038644e-03 1.65339965e-02 5.21268743e-03 1.85622604e-01]\n",
            " [3.54391450e-01 1.04162993e-02 1.06882183e-02 1.07473223e-02]\n",
            " [2.15936717e-03 4.80443084e-03 2.63201586e-03 1.03296578e-02]\n",
            " [1.28777909e-01 5.98695119e-03 4.45904492e-02 8.89805854e-04]\n",
            " [0.00000000e+00 0.00000000e+00 0.00000000e+00 0.00000000e+00]\n",
            " [8.54804135e-02 8.72269041e-09 1.72413733e-05 1.40915531e-08]\n",
            " [0.00000000e+00 0.00000000e+00 0.00000000e+00 0.00000000e+00]\n",
            " [1.70313422e-02 1.09889854e-02 1.11117703e-02 2.84200485e-01]\n",
            " [1.03510393e-01 2.00381739e-01 1.59217463e-01 7.88993761e-02]\n",
            " [3.85802414e-01 5.73083621e-05 2.90156109e-03 2.04339368e-03]\n",
            " [0.00000000e+00 0.00000000e+00 0.00000000e+00 0.00000000e+00]\n",
            " [0.00000000e+00 0.00000000e+00 0.00000000e+00 0.00000000e+00]\n",
            " [1.19822717e-01 2.18992218e-02 4.35809100e-01 1.06214872e-01]\n",
            " [1.64293449e-01 7.32291301e-01 3.20924970e-01 1.66531580e-01]\n",
            " [0.00000000e+00 0.00000000e+00 0.00000000e+00 0.00000000e+00]]\n"
          ],
          "name": "stdout"
        }
      ]
    },
    {
      "cell_type": "code",
      "metadata": {
        "id": "2IZXV9JalWCB",
        "colab_type": "code",
        "outputId": "5413a08c-9b8e-4f87-ca62-1e5e7f6f4003",
        "colab": {
          "base_uri": "https://localhost:8080/",
          "height": 1000
        }
      },
      "source": [
        "env.reset()\n",
        "\n",
        "for episode in range(10):\n",
        "    state = env.reset()\n",
        "    step = 0\n",
        "    done = False\n",
        "    print(\"****************************************************\")\n",
        "    print(\"EPISODE \", episode)\n",
        "\n",
        "    for step in range(max_steps):\n",
        "        \n",
        "    \n",
        "        action = np.argmax(qtable[state,:])\n",
        "        \n",
        "        new_state, reward, done, info = env.step(action)\n",
        "        \n",
        "        if done:\n",
        "          \n",
        "            env.render()\n",
        "            \n",
        "            # We print the number of step it took.\n",
        "            print(\"Number of steps\", step)\n",
        "            break\n",
        "        state = new_state\n",
        "env.close()"
      ],
      "execution_count": 0,
      "outputs": [
        {
          "output_type": "stream",
          "text": [
            "****************************************************\n",
            "EPISODE  0\n",
            "  (Down)\n",
            "SFFF\n",
            "FHFH\n",
            "FFFH\n",
            "HFF\u001b[41mG\u001b[0m\n",
            "Number of steps 6\n",
            "****************************************************\n",
            "EPISODE  1\n",
            "  (Left)\n",
            "SFFF\n",
            "F\u001b[41mH\u001b[0mFH\n",
            "FFFH\n",
            "HFFG\n",
            "Number of steps 45\n",
            "****************************************************\n",
            "EPISODE  2\n",
            "  (Down)\n",
            "SFFF\n",
            "FHFH\n",
            "FFFH\n",
            "HFF\u001b[41mG\u001b[0m\n",
            "Number of steps 11\n",
            "****************************************************\n",
            "EPISODE  3\n",
            "  (Down)\n",
            "SFFF\n",
            "FHFH\n",
            "FFFH\n",
            "HFF\u001b[41mG\u001b[0m\n",
            "Number of steps 56\n",
            "****************************************************\n",
            "EPISODE  4\n",
            "****************************************************\n",
            "EPISODE  5\n",
            "  (Down)\n",
            "SFFF\n",
            "FHFH\n",
            "FFFH\n",
            "HFF\u001b[41mG\u001b[0m\n",
            "Number of steps 41\n",
            "****************************************************\n",
            "EPISODE  6\n",
            "  (Left)\n",
            "SFFF\n",
            "F\u001b[41mH\u001b[0mFH\n",
            "FFFH\n",
            "HFFG\n",
            "Number of steps 78\n",
            "****************************************************\n",
            "EPISODE  7\n",
            "  (Left)\n",
            "SFFF\n",
            "F\u001b[41mH\u001b[0mFH\n",
            "FFFH\n",
            "HFFG\n",
            "Number of steps 19\n",
            "****************************************************\n",
            "EPISODE  8\n",
            "  (Down)\n",
            "SFFF\n",
            "FHFH\n",
            "FFFH\n",
            "HFF\u001b[41mG\u001b[0m\n",
            "Number of steps 25\n",
            "****************************************************\n",
            "EPISODE  9\n",
            "  (Left)\n",
            "SFFF\n",
            "F\u001b[41mH\u001b[0mFH\n",
            "FFFH\n",
            "HFFG\n",
            "Number of steps 17\n"
          ],
          "name": "stdout"
        }
      ]
    },
    {
      "cell_type": "code",
      "metadata": {
        "id": "0cjPuGn1llFD",
        "colab_type": "code",
        "colab": {}
      },
      "source": [
        ""
      ],
      "execution_count": 0,
      "outputs": []
    }
  ]
}